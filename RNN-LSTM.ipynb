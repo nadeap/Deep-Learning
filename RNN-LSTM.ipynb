{
  "nbformat": 4,
  "nbformat_minor": 0,
  "metadata": {
    "colab": {
      "provenance": []
    },
    "kernelspec": {
      "name": "python3",
      "display_name": "Python 3"
    },
    "language_info": {
      "name": "python"
    }
  },
  "cells": [
    {
      "cell_type": "markdown",
      "source": [
        "# REMEDIAL\n",
        "\n",
        "## Nadea Putri Nur Fauzi (20110031)\n",
        "\n",
        "### Text Classification using RNN"
      ],
      "metadata": {
        "id": "vE7xNFjIdC1w"
      }
    },
    {
      "cell_type": "markdown",
      "source": [
        "### Import beberapa library yang dibutuhkan"
      ],
      "metadata": {
        "id": "kjUaHxd4nShT"
      }
    },
    {
      "cell_type": "code",
      "source": [
        "import pandas as pd \n",
        "import numpy as np\n",
        "import tensorflow as tf\n",
        "from tensorflow.keras.preprocessing.text import Tokenizer\n",
        "from tensorflow.keras.preprocessing.sequence import pad_sequences"
      ],
      "metadata": {
        "id": "qYDP1KGfdEJb"
      },
      "execution_count": 1,
      "outputs": []
    },
    {
      "cell_type": "markdown",
      "source": [
        "### Open and Load Dataset"
      ],
      "metadata": {
        "id": "Q90bUdoXnj1Y"
      }
    },
    {
      "cell_type": "code",
      "source": [
        "from google.colab import drive\n",
        "drive.mount('/content/drive')"
      ],
      "metadata": {
        "colab": {
          "base_uri": "https://localhost:8080/"
        },
        "id": "SKY3nofjdONx",
        "outputId": "83a0ca03-e56f-4800-cb22-9af7ecccd5ca"
      },
      "execution_count": 2,
      "outputs": [
        {
          "output_type": "stream",
          "name": "stdout",
          "text": [
            "Mounted at /content/drive\n"
          ]
        }
      ]
    },
    {
      "cell_type": "code",
      "source": [
        "data = pd.read_csv('/content/drive/MyDrive/TUGAS/DL-remedial/train.csv')\n",
        "data.head()"
      ],
      "metadata": {
        "colab": {
          "base_uri": "https://localhost:8080/",
          "height": 206
        },
        "id": "BhAgGpuxdFRp",
        "outputId": "c1afa333-b523-4b6b-abd8-9049d3b9c19a"
      },
      "execution_count": 3,
      "outputs": [
        {
          "output_type": "execute_result",
          "data": {
            "text/plain": [
              "   jenis                              kalimat\n",
              "0      2    pohon banyak kanan banyak tinggi \n",
              "1      0                     kau ingin kecil \n",
              "2      1  penyemangatku happy gampang akulah \n",
              "3      0     di jauh aku tempat kecil langit \n",
              "4      0                  angkasa angkasa ke "
            ],
            "text/html": [
              "\n",
              "  <div id=\"df-911f8a2d-d91c-4124-ade3-72a7c00060fb\">\n",
              "    <div class=\"colab-df-container\">\n",
              "      <div>\n",
              "<style scoped>\n",
              "    .dataframe tbody tr th:only-of-type {\n",
              "        vertical-align: middle;\n",
              "    }\n",
              "\n",
              "    .dataframe tbody tr th {\n",
              "        vertical-align: top;\n",
              "    }\n",
              "\n",
              "    .dataframe thead th {\n",
              "        text-align: right;\n",
              "    }\n",
              "</style>\n",
              "<table border=\"1\" class=\"dataframe\">\n",
              "  <thead>\n",
              "    <tr style=\"text-align: right;\">\n",
              "      <th></th>\n",
              "      <th>jenis</th>\n",
              "      <th>kalimat</th>\n",
              "    </tr>\n",
              "  </thead>\n",
              "  <tbody>\n",
              "    <tr>\n",
              "      <th>0</th>\n",
              "      <td>2</td>\n",
              "      <td>pohon banyak kanan banyak tinggi</td>\n",
              "    </tr>\n",
              "    <tr>\n",
              "      <th>1</th>\n",
              "      <td>0</td>\n",
              "      <td>kau ingin kecil</td>\n",
              "    </tr>\n",
              "    <tr>\n",
              "      <th>2</th>\n",
              "      <td>1</td>\n",
              "      <td>penyemangatku happy gampang akulah</td>\n",
              "    </tr>\n",
              "    <tr>\n",
              "      <th>3</th>\n",
              "      <td>0</td>\n",
              "      <td>di jauh aku tempat kecil langit</td>\n",
              "    </tr>\n",
              "    <tr>\n",
              "      <th>4</th>\n",
              "      <td>0</td>\n",
              "      <td>angkasa angkasa ke</td>\n",
              "    </tr>\n",
              "  </tbody>\n",
              "</table>\n",
              "</div>\n",
              "      <button class=\"colab-df-convert\" onclick=\"convertToInteractive('df-911f8a2d-d91c-4124-ade3-72a7c00060fb')\"\n",
              "              title=\"Convert this dataframe to an interactive table.\"\n",
              "              style=\"display:none;\">\n",
              "        \n",
              "  <svg xmlns=\"http://www.w3.org/2000/svg\" height=\"24px\"viewBox=\"0 0 24 24\"\n",
              "       width=\"24px\">\n",
              "    <path d=\"M0 0h24v24H0V0z\" fill=\"none\"/>\n",
              "    <path d=\"M18.56 5.44l.94 2.06.94-2.06 2.06-.94-2.06-.94-.94-2.06-.94 2.06-2.06.94zm-11 1L8.5 8.5l.94-2.06 2.06-.94-2.06-.94L8.5 2.5l-.94 2.06-2.06.94zm10 10l.94 2.06.94-2.06 2.06-.94-2.06-.94-.94-2.06-.94 2.06-2.06.94z\"/><path d=\"M17.41 7.96l-1.37-1.37c-.4-.4-.92-.59-1.43-.59-.52 0-1.04.2-1.43.59L10.3 9.45l-7.72 7.72c-.78.78-.78 2.05 0 2.83L4 21.41c.39.39.9.59 1.41.59.51 0 1.02-.2 1.41-.59l7.78-7.78 2.81-2.81c.8-.78.8-2.07 0-2.86zM5.41 20L4 18.59l7.72-7.72 1.47 1.35L5.41 20z\"/>\n",
              "  </svg>\n",
              "      </button>\n",
              "      \n",
              "  <style>\n",
              "    .colab-df-container {\n",
              "      display:flex;\n",
              "      flex-wrap:wrap;\n",
              "      gap: 12px;\n",
              "    }\n",
              "\n",
              "    .colab-df-convert {\n",
              "      background-color: #E8F0FE;\n",
              "      border: none;\n",
              "      border-radius: 50%;\n",
              "      cursor: pointer;\n",
              "      display: none;\n",
              "      fill: #1967D2;\n",
              "      height: 32px;\n",
              "      padding: 0 0 0 0;\n",
              "      width: 32px;\n",
              "    }\n",
              "\n",
              "    .colab-df-convert:hover {\n",
              "      background-color: #E2EBFA;\n",
              "      box-shadow: 0px 1px 2px rgba(60, 64, 67, 0.3), 0px 1px 3px 1px rgba(60, 64, 67, 0.15);\n",
              "      fill: #174EA6;\n",
              "    }\n",
              "\n",
              "    [theme=dark] .colab-df-convert {\n",
              "      background-color: #3B4455;\n",
              "      fill: #D2E3FC;\n",
              "    }\n",
              "\n",
              "    [theme=dark] .colab-df-convert:hover {\n",
              "      background-color: #434B5C;\n",
              "      box-shadow: 0px 1px 3px 1px rgba(0, 0, 0, 0.15);\n",
              "      filter: drop-shadow(0px 1px 2px rgba(0, 0, 0, 0.3));\n",
              "      fill: #FFFFFF;\n",
              "    }\n",
              "  </style>\n",
              "\n",
              "      <script>\n",
              "        const buttonEl =\n",
              "          document.querySelector('#df-911f8a2d-d91c-4124-ade3-72a7c00060fb button.colab-df-convert');\n",
              "        buttonEl.style.display =\n",
              "          google.colab.kernel.accessAllowed ? 'block' : 'none';\n",
              "\n",
              "        async function convertToInteractive(key) {\n",
              "          const element = document.querySelector('#df-911f8a2d-d91c-4124-ade3-72a7c00060fb');\n",
              "          const dataTable =\n",
              "            await google.colab.kernel.invokeFunction('convertToInteractive',\n",
              "                                                     [key], {});\n",
              "          if (!dataTable) return;\n",
              "\n",
              "          const docLinkHtml = 'Like what you see? Visit the ' +\n",
              "            '<a target=\"_blank\" href=https://colab.research.google.com/notebooks/data_table.ipynb>data table notebook</a>'\n",
              "            + ' to learn more about interactive tables.';\n",
              "          element.innerHTML = '';\n",
              "          dataTable['output_type'] = 'display_data';\n",
              "          await google.colab.output.renderOutput(dataTable, element);\n",
              "          const docLink = document.createElement('div');\n",
              "          docLink.innerHTML = docLinkHtml;\n",
              "          element.appendChild(docLink);\n",
              "        }\n",
              "      </script>\n",
              "    </div>\n",
              "  </div>\n",
              "  "
            ]
          },
          "metadata": {},
          "execution_count": 3
        }
      ]
    },
    {
      "cell_type": "code",
      "source": [
        "data.info()"
      ],
      "metadata": {
        "colab": {
          "base_uri": "https://localhost:8080/"
        },
        "id": "wv_EoPu2nnNh",
        "outputId": "3ed80470-315a-4760-dcbc-580f71e4b6d6"
      },
      "execution_count": 4,
      "outputs": [
        {
          "output_type": "stream",
          "name": "stdout",
          "text": [
            "<class 'pandas.core.frame.DataFrame'>\n",
            "RangeIndex: 300 entries, 0 to 299\n",
            "Data columns (total 2 columns):\n",
            " #   Column   Non-Null Count  Dtype \n",
            "---  ------   --------------  ----- \n",
            " 0   jenis    300 non-null    int64 \n",
            " 1   kalimat  300 non-null    object\n",
            "dtypes: int64(1), object(1)\n",
            "memory usage: 4.8+ KB\n"
          ]
        }
      ]
    },
    {
      "cell_type": "code",
      "source": [
        "data['jenis'].nunique()"
      ],
      "metadata": {
        "colab": {
          "base_uri": "https://localhost:8080/"
        },
        "id": "rxDpIy-znpgl",
        "outputId": "35f904a4-9be1-4d5d-aa42-8d5cce82fb5d"
      },
      "execution_count": 5,
      "outputs": [
        {
          "output_type": "execute_result",
          "data": {
            "text/plain": [
              "3"
            ]
          },
          "metadata": {},
          "execution_count": 5
        }
      ]
    },
    {
      "cell_type": "code",
      "source": [
        "data['jenis'].value_counts()"
      ],
      "metadata": {
        "colab": {
          "base_uri": "https://localhost:8080/"
        },
        "id": "b7-NRkPMnsXo",
        "outputId": "005007a7-4800-4438-9851-09e3e5870eb8"
      },
      "execution_count": 6,
      "outputs": [
        {
          "output_type": "execute_result",
          "data": {
            "text/plain": [
              "2    100\n",
              "0    100\n",
              "1    100\n",
              "Name: jenis, dtype: int64"
            ]
          },
          "metadata": {},
          "execution_count": 6
        }
      ]
    },
    {
      "cell_type": "markdown",
      "source": [
        "### Split Dataset (Train and Test)"
      ],
      "metadata": {
        "id": "tKKbAaLAnvaJ"
      }
    },
    {
      "cell_type": "code",
      "source": [
        "from sklearn.model_selection import train_test_split"
      ],
      "metadata": {
        "id": "P-NcRiNEdcIg"
      },
      "execution_count": 7,
      "outputs": []
    },
    {
      "cell_type": "markdown",
      "source": [
        "Split data dengan perbandingan 75%:25%"
      ],
      "metadata": {
        "id": "3r8JPkoyn0AY"
      }
    },
    {
      "cell_type": "code",
      "source": [
        "train_data, test_data = train_test_split(data, test_size=0.25, random_state=42)"
      ],
      "metadata": {
        "id": "JLQQryyadKHm"
      },
      "execution_count": 8,
      "outputs": []
    },
    {
      "cell_type": "code",
      "source": [
        "train_data.shape,test_data.shape"
      ],
      "metadata": {
        "colab": {
          "base_uri": "https://localhost:8080/"
        },
        "id": "h5uVAjrvn4o9",
        "outputId": "9d905f65-f728-406f-e422-44a2359bf30e"
      },
      "execution_count": 9,
      "outputs": [
        {
          "output_type": "execute_result",
          "data": {
            "text/plain": [
              "((225, 2), (75, 2))"
            ]
          },
          "metadata": {},
          "execution_count": 9
        }
      ]
    },
    {
      "cell_type": "markdown",
      "source": [
        "Didapatkan 225 baris dengan 2 kolom untuk data train, dan 75 baris dengan 2 kolom untuk data test"
      ],
      "metadata": {
        "id": "ZJHKY-kAoEou"
      }
    },
    {
      "cell_type": "markdown",
      "source": [
        "### Tokenizer and Padding Sequence"
      ],
      "metadata": {
        "id": "D09AYcXfoafH"
      }
    },
    {
      "cell_type": "markdown",
      "source": [
        "Disini hanya menggunakan 100 kata teratas karena kalau dilihat dari data mentahannya, kata-kata yang unik tersebut tidak lebih dari 100 kata. Jadi hanya membuat tokenisasi untuk 100 kata paling sering muncul saja.\n",
        "\n",
        "Juga memberikan tanda <OOV> (Out-Of-Vocabulary) pada kata-kata yang tidak termasuk dalam 100 kata teratas tersebut."
      ],
      "metadata": {
        "id": "kxFvw74dohzF"
      }
    },
    {
      "cell_type": "markdown",
      "source": [
        "Dilakukan juga pengubahan setiap kalimat pada dataset training menjadi sequence berdasarkan token yang sudah dihasilkan oleh objek tokenizer sebelumnya. \n",
        "\n",
        "Menambahkan padding pada setiap sequence yang sudah dihasilkan sebelumnya, sehingga setiap sequence memiliki panjang yang sama. panjang sequence yang diinputkan adalah 20 saja karena melihat dari kata yang ada pada kolom kalimat, jika suatu sequence memiliki panjang kurang dari 20, maka padding akan ditambahkan pada akhir sequence. Jika suatu sequence memiliki panjang lebih dari 20, maka bagian awal sequence akan dipotong.\n",
        "\n",
        "Hal ini diterapkan pada data training dan testing."
      ],
      "metadata": {
        "id": "Y0VUQexupZ1c"
      }
    },
    {
      "cell_type": "code",
      "source": [
        "tokenizer = Tokenizer(num_words=100, oov_token='<OOV>')\n",
        "tokenizer.fit_on_texts(train_data['kalimat'])\n",
        "\n",
        "train_sequences = tokenizer.texts_to_sequences(train_data['kalimat'])\n",
        "train_padded = pad_sequences(train_sequences, maxlen=20, padding='post', truncating='post')\n",
        "\n",
        "test_sequences = tokenizer.texts_to_sequences(test_data['kalimat'])\n",
        "test_padded = pad_sequences(test_sequences, maxlen=20, padding='post', truncating='post')"
      ],
      "metadata": {
        "id": "EM_y1tvMdhq9"
      },
      "execution_count": 10,
      "outputs": []
    },
    {
      "cell_type": "markdown",
      "source": [
        "### Modelling using RNN"
      ],
      "metadata": {
        "id": "u-U9ONuPp4dA"
      }
    },
    {
      "cell_type": "code",
      "source": [
        "model = tf.keras.Sequential([\n",
        "    tf.keras.layers.Embedding(100, 16, input_length=20),\n",
        "    tf.keras.layers.LSTM(64, return_sequences=True),\n",
        "    tf.keras.layers.GlobalAveragePooling1D(),\n",
        "    tf.keras.layers.Dense(24, activation='relu'),\n",
        "    tf.keras.layers.Dense(3, activation='softmax')\n",
        "])"
      ],
      "metadata": {
        "id": "YVPYzzaydmm0"
      },
      "execution_count": 11,
      "outputs": []
    },
    {
      "cell_type": "markdown",
      "source": [
        "Menggunakan layer embedding untuk mengubah sequence yang sudah di-padding menjadi vektor dengan jumlah dimensi yang lebih kecil. Argumen 100 digunakan untuk menentukan jumlah kata yang digunakan sebagai input, 16 digunakan untuk menentukan jumlah dimensi output yang diinginkan untuk vektor embedding, dan input_length=20 digunakan untuk menentukan panjang maksimum sequence yang akan diinputkan ke dalam model."
      ],
      "metadata": {
        "id": "K4IQpFtaqXCk"
      }
    },
    {
      "cell_type": "markdown",
      "source": [
        "Layer pooling digunakan untuk menggabungkan vektor-vektor yang dihasilkan oleh layer embedding menjadi sebuah vektor tunggal dengan dimensi yang lebih kecil. Dalam kasus ini, layer pooling menggunakan average pooling, yaitu mengambil rata-rata dari semua vektor embedding yang dihasilkan."
      ],
      "metadata": {
        "id": "a2KoG529qgoj"
      }
    },
    {
      "cell_type": "markdown",
      "source": [
        "Layer output dense dengan keluaran 3 dan aktifasi softmax karena datanya categorical (0,1,dan 2)"
      ],
      "metadata": {
        "id": "77sQH430qn7c"
      }
    },
    {
      "cell_type": "code",
      "source": [
        "model.compile(loss='sparse_categorical_crossentropy', optimizer='adam', metrics=['accuracy'])"
      ],
      "metadata": {
        "id": "oCGGxcTHdpuG"
      },
      "execution_count": 12,
      "outputs": []
    },
    {
      "cell_type": "markdown",
      "source": [
        "Dicompile menggunakan sparse categorical karena datanya categorical, optimizernya adam untun mempercepat training dan metrics akurasi untuk melihat kebaikan model."
      ],
      "metadata": {
        "id": "4khbEFtRqz4p"
      }
    },
    {
      "cell_type": "code",
      "source": [
        "history = model.fit(train_padded, train_data['jenis'], epochs=50, validation_data=(test_padded, test_data['jenis']), batch_size=10)"
      ],
      "metadata": {
        "colab": {
          "base_uri": "https://localhost:8080/"
        },
        "id": "YuU0uazQds3l",
        "outputId": "64983cfd-c26a-43bd-c073-15c92d8c5357"
      },
      "execution_count": 13,
      "outputs": [
        {
          "output_type": "stream",
          "name": "stdout",
          "text": [
            "Epoch 1/50\n",
            "23/23 [==============================] - 3s 37ms/step - loss: 1.0951 - accuracy: 0.4000 - val_loss: 1.0888 - val_accuracy: 0.5200\n",
            "Epoch 2/50\n",
            "23/23 [==============================] - 0s 16ms/step - loss: 1.0007 - accuracy: 0.6356 - val_loss: 0.8122 - val_accuracy: 0.5867\n",
            "Epoch 3/50\n",
            "23/23 [==============================] - 0s 16ms/step - loss: 0.5613 - accuracy: 0.6933 - val_loss: 0.5781 - val_accuracy: 0.6000\n",
            "Epoch 4/50\n",
            "23/23 [==============================] - 0s 16ms/step - loss: 0.4119 - accuracy: 0.6933 - val_loss: 0.4327 - val_accuracy: 0.6133\n",
            "Epoch 5/50\n",
            "23/23 [==============================] - 0s 14ms/step - loss: 0.2471 - accuracy: 0.9289 - val_loss: 0.1947 - val_accuracy: 0.9867\n",
            "Epoch 6/50\n",
            "23/23 [==============================] - 0s 16ms/step - loss: 0.0837 - accuracy: 0.9956 - val_loss: 0.0723 - val_accuracy: 0.9867\n",
            "Epoch 7/50\n",
            "23/23 [==============================] - 0s 12ms/step - loss: 0.0315 - accuracy: 0.9956 - val_loss: 0.0631 - val_accuracy: 0.9867\n",
            "Epoch 8/50\n",
            "23/23 [==============================] - 0s 10ms/step - loss: 0.0074 - accuracy: 1.0000 - val_loss: 0.0651 - val_accuracy: 0.9867\n",
            "Epoch 9/50\n",
            "23/23 [==============================] - 0s 11ms/step - loss: 0.0044 - accuracy: 1.0000 - val_loss: 0.0684 - val_accuracy: 0.9867\n",
            "Epoch 10/50\n",
            "23/23 [==============================] - 0s 10ms/step - loss: 0.0030 - accuracy: 1.0000 - val_loss: 0.0711 - val_accuracy: 0.9867\n",
            "Epoch 11/50\n",
            "23/23 [==============================] - 0s 12ms/step - loss: 0.0023 - accuracy: 1.0000 - val_loss: 0.0734 - val_accuracy: 0.9867\n",
            "Epoch 12/50\n",
            "23/23 [==============================] - 0s 12ms/step - loss: 0.0018 - accuracy: 1.0000 - val_loss: 0.0756 - val_accuracy: 0.9867\n",
            "Epoch 13/50\n",
            "23/23 [==============================] - 0s 12ms/step - loss: 0.0015 - accuracy: 1.0000 - val_loss: 0.0776 - val_accuracy: 0.9867\n",
            "Epoch 14/50\n",
            "23/23 [==============================] - 0s 12ms/step - loss: 0.0013 - accuracy: 1.0000 - val_loss: 0.0794 - val_accuracy: 0.9867\n",
            "Epoch 15/50\n",
            "23/23 [==============================] - 0s 10ms/step - loss: 0.0011 - accuracy: 1.0000 - val_loss: 0.0809 - val_accuracy: 0.9867\n",
            "Epoch 16/50\n",
            "23/23 [==============================] - 0s 9ms/step - loss: 9.2463e-04 - accuracy: 1.0000 - val_loss: 0.0824 - val_accuracy: 0.9867\n",
            "Epoch 17/50\n",
            "23/23 [==============================] - 0s 10ms/step - loss: 8.0958e-04 - accuracy: 1.0000 - val_loss: 0.0836 - val_accuracy: 0.9867\n",
            "Epoch 18/50\n",
            "23/23 [==============================] - 0s 10ms/step - loss: 7.1576e-04 - accuracy: 1.0000 - val_loss: 0.0849 - val_accuracy: 0.9867\n",
            "Epoch 19/50\n",
            "23/23 [==============================] - 0s 10ms/step - loss: 6.3777e-04 - accuracy: 1.0000 - val_loss: 0.0863 - val_accuracy: 0.9867\n",
            "Epoch 20/50\n",
            "23/23 [==============================] - 0s 10ms/step - loss: 5.7253e-04 - accuracy: 1.0000 - val_loss: 0.0873 - val_accuracy: 0.9867\n",
            "Epoch 21/50\n",
            "23/23 [==============================] - 0s 10ms/step - loss: 5.1735e-04 - accuracy: 1.0000 - val_loss: 0.0883 - val_accuracy: 0.9867\n",
            "Epoch 22/50\n",
            "23/23 [==============================] - 0s 10ms/step - loss: 4.7055e-04 - accuracy: 1.0000 - val_loss: 0.0894 - val_accuracy: 0.9867\n",
            "Epoch 23/50\n",
            "23/23 [==============================] - 0s 9ms/step - loss: 4.3023e-04 - accuracy: 1.0000 - val_loss: 0.0904 - val_accuracy: 0.9867\n",
            "Epoch 24/50\n",
            "23/23 [==============================] - 0s 10ms/step - loss: 3.9464e-04 - accuracy: 1.0000 - val_loss: 0.0914 - val_accuracy: 0.9867\n",
            "Epoch 25/50\n",
            "23/23 [==============================] - 0s 10ms/step - loss: 3.6396e-04 - accuracy: 1.0000 - val_loss: 0.0924 - val_accuracy: 0.9867\n",
            "Epoch 26/50\n",
            "23/23 [==============================] - 0s 11ms/step - loss: 3.3674e-04 - accuracy: 1.0000 - val_loss: 0.0931 - val_accuracy: 0.9867\n",
            "Epoch 27/50\n",
            "23/23 [==============================] - 0s 10ms/step - loss: 3.1303e-04 - accuracy: 1.0000 - val_loss: 0.0940 - val_accuracy: 0.9867\n",
            "Epoch 28/50\n",
            "23/23 [==============================] - 0s 10ms/step - loss: 2.9107e-04 - accuracy: 1.0000 - val_loss: 0.0948 - val_accuracy: 0.9867\n",
            "Epoch 29/50\n",
            "23/23 [==============================] - 0s 10ms/step - loss: 2.7202e-04 - accuracy: 1.0000 - val_loss: 0.0955 - val_accuracy: 0.9867\n",
            "Epoch 30/50\n",
            "23/23 [==============================] - 0s 11ms/step - loss: 2.5471e-04 - accuracy: 1.0000 - val_loss: 0.0962 - val_accuracy: 0.9867\n",
            "Epoch 31/50\n",
            "23/23 [==============================] - 0s 11ms/step - loss: 2.3891e-04 - accuracy: 1.0000 - val_loss: 0.0969 - val_accuracy: 0.9867\n",
            "Epoch 32/50\n",
            "23/23 [==============================] - 0s 10ms/step - loss: 2.2466e-04 - accuracy: 1.0000 - val_loss: 0.0977 - val_accuracy: 0.9867\n",
            "Epoch 33/50\n",
            "23/23 [==============================] - 0s 10ms/step - loss: 2.1147e-04 - accuracy: 1.0000 - val_loss: 0.0983 - val_accuracy: 0.9867\n",
            "Epoch 34/50\n",
            "23/23 [==============================] - 0s 10ms/step - loss: 1.9961e-04 - accuracy: 1.0000 - val_loss: 0.0990 - val_accuracy: 0.9867\n",
            "Epoch 35/50\n",
            "23/23 [==============================] - 0s 11ms/step - loss: 1.8858e-04 - accuracy: 1.0000 - val_loss: 0.0996 - val_accuracy: 0.9867\n",
            "Epoch 36/50\n",
            "23/23 [==============================] - 0s 10ms/step - loss: 1.7863e-04 - accuracy: 1.0000 - val_loss: 0.1003 - val_accuracy: 0.9867\n",
            "Epoch 37/50\n",
            "23/23 [==============================] - 0s 10ms/step - loss: 1.6939e-04 - accuracy: 1.0000 - val_loss: 0.1008 - val_accuracy: 0.9867\n",
            "Epoch 38/50\n",
            "23/23 [==============================] - 0s 12ms/step - loss: 1.6081e-04 - accuracy: 1.0000 - val_loss: 0.1014 - val_accuracy: 0.9867\n",
            "Epoch 39/50\n",
            "23/23 [==============================] - 0s 10ms/step - loss: 1.5290e-04 - accuracy: 1.0000 - val_loss: 0.1020 - val_accuracy: 0.9867\n",
            "Epoch 40/50\n",
            "23/23 [==============================] - 0s 10ms/step - loss: 1.4558e-04 - accuracy: 1.0000 - val_loss: 0.1026 - val_accuracy: 0.9867\n",
            "Epoch 41/50\n",
            "23/23 [==============================] - 0s 10ms/step - loss: 1.3880e-04 - accuracy: 1.0000 - val_loss: 0.1031 - val_accuracy: 0.9867\n",
            "Epoch 42/50\n",
            "23/23 [==============================] - 0s 11ms/step - loss: 1.3244e-04 - accuracy: 1.0000 - val_loss: 0.1036 - val_accuracy: 0.9867\n",
            "Epoch 43/50\n",
            "23/23 [==============================] - 0s 10ms/step - loss: 1.2655e-04 - accuracy: 1.0000 - val_loss: 0.1041 - val_accuracy: 0.9867\n",
            "Epoch 44/50\n",
            "23/23 [==============================] - 0s 10ms/step - loss: 1.2099e-04 - accuracy: 1.0000 - val_loss: 0.1046 - val_accuracy: 0.9867\n",
            "Epoch 45/50\n",
            "23/23 [==============================] - 0s 9ms/step - loss: 1.1580e-04 - accuracy: 1.0000 - val_loss: 0.1051 - val_accuracy: 0.9867\n",
            "Epoch 46/50\n",
            "23/23 [==============================] - 0s 10ms/step - loss: 1.1093e-04 - accuracy: 1.0000 - val_loss: 0.1056 - val_accuracy: 0.9867\n",
            "Epoch 47/50\n",
            "23/23 [==============================] - 0s 11ms/step - loss: 1.0632e-04 - accuracy: 1.0000 - val_loss: 0.1060 - val_accuracy: 0.9867\n",
            "Epoch 48/50\n",
            "23/23 [==============================] - 0s 16ms/step - loss: 1.0207e-04 - accuracy: 1.0000 - val_loss: 0.1065 - val_accuracy: 0.9867\n",
            "Epoch 49/50\n",
            "23/23 [==============================] - 0s 16ms/step - loss: 9.8029e-05 - accuracy: 1.0000 - val_loss: 0.1069 - val_accuracy: 0.9867\n",
            "Epoch 50/50\n",
            "23/23 [==============================] - 0s 15ms/step - loss: 9.4159e-05 - accuracy: 1.0000 - val_loss: 0.1074 - val_accuracy: 0.9867\n"
          ]
        }
      ]
    },
    {
      "cell_type": "markdown",
      "source": [
        "### Plot Accuracy and Loss"
      ],
      "metadata": {
        "id": "FSre7ae6s-Wi"
      }
    },
    {
      "cell_type": "code",
      "source": [
        "import matplotlib.pyplot as plt\n",
        "\n",
        "def acc_plot(history):\n",
        "  plt.plot(history.history['accuracy'],'r', label='Training Accuracy')\n",
        "  plt.plot(history.history['val_accuracy'],'b', label='Validation Accuracy')\n",
        "  plt.legend()\n",
        "\n",
        "acc_plot(history)"
      ],
      "metadata": {
        "colab": {
          "base_uri": "https://localhost:8080/",
          "height": 265
        },
        "id": "22vtLwHKrBZj",
        "outputId": "c7d630ae-35f7-4771-f4a0-358b719ba9e9"
      },
      "execution_count": 14,
      "outputs": [
        {
          "output_type": "display_data",
          "data": {
            "text/plain": [
              "<Figure size 432x288 with 1 Axes>"
            ],
            "image/png": "[encoded data removed]"
          },
          "metadata": {
            "needs_background": "light"
          }
        }
      ]
    },
    {
      "cell_type": "code",
      "source": [
        "def loss_plot(history):\n",
        "  plt.plot(history.history['loss'],'r', label='Training Loss')\n",
        "  plt.plot(history.history['val_loss'],'b', label='Validation Loss')\n",
        "  plt.legend()\n",
        "\n",
        "loss_plot(history)"
      ],
      "metadata": {
        "colab": {
          "base_uri": "https://localhost:8080/",
          "height": 265
        },
        "id": "dXAZZOk8rXqY",
        "outputId": "6cfd21c4-8ad7-4e45-fc90-2b4cc2724188"
      },
      "execution_count": 15,
      "outputs": [
        {
          "output_type": "display_data",
          "data": {
            "text/plain": [
              "<Figure size 432x288 with 1 Axes>"
            ],
            "image/png": "[encoded data removed]"
          },
          "metadata": {
            "needs_background": "light"
          }
        }
      ]
    },
    {
      "cell_type": "markdown",
      "source": [
        "### Save Model"
      ],
      "metadata": {
        "id": "smVMQ24ttCgE"
      }
    },
    {
      "cell_type": "code",
      "source": [
        "model.save('RNNmodel1.h5')"
      ],
      "metadata": {
        "id": "8e42s044fUEV"
      },
      "execution_count": 16,
      "outputs": []
    },
    {
      "cell_type": "markdown",
      "source": [
        "### Predict Soal.csv"
      ],
      "metadata": {
        "id": "wPd8o2rTtGUl"
      }
    },
    {
      "cell_type": "code",
      "source": [
        "soal = pd.read_csv('/content/drive/MyDrive/TUGAS/DL-remedial/soal.csv')\n",
        "soal.head()"
      ],
      "metadata": {
        "colab": {
          "base_uri": "https://localhost:8080/",
          "height": 206
        },
        "id": "wipCVkxPfn_c",
        "outputId": "819ed023-ba04-4df9-c9d5-2fcf364985e7"
      },
      "execution_count": 17,
      "outputs": [
        {
          "output_type": "execute_result",
          "data": {
            "text/plain": [
              "                                          kalimat\n",
              "0  queen sapi tujuan gampang penyemangatku queen \n",
              "1                    ke jauh ingin jauh amat aku \n",
              "2                           cemara cemara tinggi \n",
              "3     bikin kasar penyemangatku puyuh kuat sabar \n",
              "4                            kecil ingin terbang "
            ],
            "text/html": [
              "\n",
              "  <div id=\"df-6644645a-2e97-462d-8da3-807cbe0f9af9\">\n",
              "    <div class=\"colab-df-container\">\n",
              "      <div>\n",
              "<style scoped>\n",
              "    .dataframe tbody tr th:only-of-type {\n",
              "        vertical-align: middle;\n",
              "    }\n",
              "\n",
              "    .dataframe tbody tr th {\n",
              "        vertical-align: top;\n",
              "    }\n",
              "\n",
              "    .dataframe thead th {\n",
              "        text-align: right;\n",
              "    }\n",
              "</style>\n",
              "<table border=\"1\" class=\"dataframe\">\n",
              "  <thead>\n",
              "    <tr style=\"text-align: right;\">\n",
              "      <th></th>\n",
              "      <th>kalimat</th>\n",
              "    </tr>\n",
              "  </thead>\n",
              "  <tbody>\n",
              "    <tr>\n",
              "      <th>0</th>\n",
              "      <td>queen sapi tujuan gampang penyemangatku queen</td>\n",
              "    </tr>\n",
              "    <tr>\n",
              "      <th>1</th>\n",
              "      <td>ke jauh ingin jauh amat aku</td>\n",
              "    </tr>\n",
              "    <tr>\n",
              "      <th>2</th>\n",
              "      <td>cemara cemara tinggi</td>\n",
              "    </tr>\n",
              "    <tr>\n",
              "      <th>3</th>\n",
              "      <td>bikin kasar penyemangatku puyuh kuat sabar</td>\n",
              "    </tr>\n",
              "    <tr>\n",
              "      <th>4</th>\n",
              "      <td>kecil ingin terbang</td>\n",
              "    </tr>\n",
              "  </tbody>\n",
              "</table>\n",
              "</div>\n",
              "      <button class=\"colab-df-convert\" onclick=\"convertToInteractive('df-6644645a-2e97-462d-8da3-807cbe0f9af9')\"\n",
              "              title=\"Convert this dataframe to an interactive table.\"\n",
              "              style=\"display:none;\">\n",
              "        \n",
              "  <svg xmlns=\"http://www.w3.org/2000/svg\" height=\"24px\"viewBox=\"0 0 24 24\"\n",
              "       width=\"24px\">\n",
              "    <path d=\"M0 0h24v24H0V0z\" fill=\"none\"/>\n",
              "    <path d=\"M18.56 5.44l.94 2.06.94-2.06 2.06-.94-2.06-.94-.94-2.06-.94 2.06-2.06.94zm-11 1L8.5 8.5l.94-2.06 2.06-.94-2.06-.94L8.5 2.5l-.94 2.06-2.06.94zm10 10l.94 2.06.94-2.06 2.06-.94-2.06-.94-.94-2.06-.94 2.06-2.06.94z\"/><path d=\"M17.41 7.96l-1.37-1.37c-.4-.4-.92-.59-1.43-.59-.52 0-1.04.2-1.43.59L10.3 9.45l-7.72 7.72c-.78.78-.78 2.05 0 2.83L4 21.41c.39.39.9.59 1.41.59.51 0 1.02-.2 1.41-.59l7.78-7.78 2.81-2.81c.8-.78.8-2.07 0-2.86zM5.41 20L4 18.59l7.72-7.72 1.47 1.35L5.41 20z\"/>\n",
              "  </svg>\n",
              "      </button>\n",
              "      \n",
              "  <style>\n",
              "    .colab-df-container {\n",
              "      display:flex;\n",
              "      flex-wrap:wrap;\n",
              "      gap: 12px;\n",
              "    }\n",
              "\n",
              "    .colab-df-convert {\n",
              "      background-color: #E8F0FE;\n",
              "      border: none;\n",
              "      border-radius: 50%;\n",
              "      cursor: pointer;\n",
              "      display: none;\n",
              "      fill: #1967D2;\n",
              "      height: 32px;\n",
              "      padding: 0 0 0 0;\n",
              "      width: 32px;\n",
              "    }\n",
              "\n",
              "    .colab-df-convert:hover {\n",
              "      background-color: #E2EBFA;\n",
              "      box-shadow: 0px 1px 2px rgba(60, 64, 67, 0.3), 0px 1px 3px 1px rgba(60, 64, 67, 0.15);\n",
              "      fill: #174EA6;\n",
              "    }\n",
              "\n",
              "    [theme=dark] .colab-df-convert {\n",
              "      background-color: #3B4455;\n",
              "      fill: #D2E3FC;\n",
              "    }\n",
              "\n",
              "    [theme=dark] .colab-df-convert:hover {\n",
              "      background-color: #434B5C;\n",
              "      box-shadow: 0px 1px 3px 1px rgba(0, 0, 0, 0.15);\n",
              "      filter: drop-shadow(0px 1px 2px rgba(0, 0, 0, 0.3));\n",
              "      fill: #FFFFFF;\n",
              "    }\n",
              "  </style>\n",
              "\n",
              "      <script>\n",
              "        const buttonEl =\n",
              "          document.querySelector('#df-6644645a-2e97-462d-8da3-807cbe0f9af9 button.colab-df-convert');\n",
              "        buttonEl.style.display =\n",
              "          google.colab.kernel.accessAllowed ? 'block' : 'none';\n",
              "\n",
              "        async function convertToInteractive(key) {\n",
              "          const element = document.querySelector('#df-6644645a-2e97-462d-8da3-807cbe0f9af9');\n",
              "          const dataTable =\n",
              "            await google.colab.kernel.invokeFunction('convertToInteractive',\n",
              "                                                     [key], {});\n",
              "          if (!dataTable) return;\n",
              "\n",
              "          const docLinkHtml = 'Like what you see? Visit the ' +\n",
              "            '<a target=\"_blank\" href=https://colab.research.google.com/notebooks/data_table.ipynb>data table notebook</a>'\n",
              "            + ' to learn more about interactive tables.';\n",
              "          element.innerHTML = '';\n",
              "          dataTable['output_type'] = 'display_data';\n",
              "          await google.colab.output.renderOutput(dataTable, element);\n",
              "          const docLink = document.createElement('div');\n",
              "          docLink.innerHTML = docLinkHtml;\n",
              "          element.appendChild(docLink);\n",
              "        }\n",
              "      </script>\n",
              "    </div>\n",
              "  </div>\n",
              "  "
            ]
          },
          "metadata": {},
          "execution_count": 17
        }
      ]
    },
    {
      "cell_type": "code",
      "source": [
        "sequences = tokenizer.texts_to_sequences(soal['kalimat'])\n",
        "padded = pad_sequences(sequences, maxlen=20, padding='post', truncating='post')"
      ],
      "metadata": {
        "id": "zxFkDTE7gtiJ"
      },
      "execution_count": 18,
      "outputs": []
    },
    {
      "cell_type": "code",
      "source": [
        "predictions = model.predict(padded)\n",
        "labels = ['0', '1', '2']\n",
        "predicted_labels = [labels[prediction.argmax()] for prediction in predictions] #argmax biar bilangan bulat\n",
        "\n",
        "soal['kelas'] = predicted_labels\n",
        "\n",
        "print(soal)"
      ],
      "metadata": {
        "colab": {
          "base_uri": "https://localhost:8080/"
        },
        "id": "u75E3LRmhm45",
        "outputId": "8371d893-c34a-4536-ac7a-031d18e7baeb"
      },
      "execution_count": 19,
      "outputs": [
        {
          "output_type": "stream",
          "name": "stdout",
          "text": [
            "10/10 [==============================] - 0s 3ms/step\n",
            "                                            kalimat kelas\n",
            "0    queen sapi tujuan gampang penyemangatku queen      1\n",
            "1                      ke jauh ingin jauh amat aku      0\n",
            "2                             cemara cemara tinggi      2\n",
            "3       bikin kasar penyemangatku puyuh kuat sabar      1\n",
            "4                              kecil ingin terbang      0\n",
            "..                                              ...   ...\n",
            "295                          makan kasar mengingat      1\n",
            "296   tinggi kiri pohon pohon puncak cemara sekali      2\n",
            "297                                  berada dan ke      0\n",
            "298                      ngguyu ku ayam aku akulah      1\n",
            "299               sekali sekali sekali kanan pohon      2\n",
            "\n",
            "[300 rows x 2 columns]\n"
          ]
        }
      ]
    },
    {
      "cell_type": "markdown",
      "source": [
        "Hasil Predict"
      ],
      "metadata": {
        "id": "Sbaaz809tV0s"
      }
    },
    {
      "cell_type": "code",
      "source": [
        "soal['kelas']"
      ],
      "metadata": {
        "colab": {
          "base_uri": "https://localhost:8080/"
        },
        "id": "8DUoIHLvhtOD",
        "outputId": "02989be3-273c-4287-dd39-17852be4774d"
      },
      "execution_count": 20,
      "outputs": [
        {
          "output_type": "execute_result",
          "data": {
            "text/plain": [
              "0      1\n",
              "1      0\n",
              "2      2\n",
              "3      1\n",
              "4      0\n",
              "      ..\n",
              "295    1\n",
              "296    2\n",
              "297    0\n",
              "298    1\n",
              "299    2\n",
              "Name: kelas, Length: 300, dtype: object"
            ]
          },
          "metadata": {},
          "execution_count": 20
        }
      ]
    },
    {
      "cell_type": "code",
      "source": [
        "jwb = soal['kelas'].values"
      ],
      "metadata": {
        "id": "0iUiy9XlhykN"
      },
      "execution_count": 21,
      "outputs": []
    },
    {
      "cell_type": "code",
      "source": [
        "jwb"
      ],
      "metadata": {
        "colab": {
          "base_uri": "https://localhost:8080/"
        },
        "id": "kGrcEnf0iCwG",
        "outputId": "95024813-3c9c-4dd2-8922-f2421315647a"
      },
      "execution_count": 22,
      "outputs": [
        {
          "output_type": "execute_result",
          "data": {
            "text/plain": [
              "array(['1', '0', '2', '1', '0', '2', '2', '0', '1', '0', '1', '2', '0',\n",
              "       '2', '1', '1', '1', '1', '1', '2', '1', '1', '2', '2', '2', '2',\n",
              "       '0', '2', '2', '2', '0', '1', '2', '1', '1', '2', '2', '1', '2',\n",
              "       '0', '1', '0', '1', '2', '1', '1', '2', '2', '0', '0', '0', '2',\n",
              "       '2', '2', '0', '0', '2', '2', '2', '0', '2', '1', '1', '1', '2',\n",
              "       '2', '2', '0', '0', '2', '0', '1', '1', '1', '0', '2', '0', '0',\n",
              "       '0', '1', '0', '2', '0', '2', '1', '1', '0', '0', '1', '2', '1',\n",
              "       '1', '2', '2', '2', '0', '1', '1', '0', '1', '0', '2', '2', '1',\n",
              "       '1', '2', '0', '2', '2', '2', '0', '1', '2', '0', '1', '1', '1',\n",
              "       '0', '2', '2', '0', '1', '1', '0', '1', '1', '1', '2', '1', '2',\n",
              "       '0', '0', '2', '1', '0', '0', '2', '0', '1', '0', '2', '2', '0',\n",
              "       '0', '0', '2', '0', '0', '2', '1', '0', '1', '2', '2', '1', '2',\n",
              "       '1', '2', '1', '2', '1', '0', '0', '2', '2', '1', '2', '2', '0',\n",
              "       '1', '0', '0', '0', '1', '2', '2', '2', '1', '2', '1', '0', '2',\n",
              "       '1', '1', '0', '0', '0', '1', '0', '0', '1', '1', '2', '1', '0',\n",
              "       '2', '1', '0', '0', '1', '0', '0', '0', '1', '2', '2', '1', '0',\n",
              "       '1', '0', '1', '2', '2', '0', '1', '0', '1', '2', '0', '1', '0',\n",
              "       '1', '1', '2', '1', '1', '2', '0', '0', '2', '1', '0', '2', '1',\n",
              "       '0', '1', '2', '1', '2', '0', '0', '1', '0', '2', '1', '1', '2',\n",
              "       '0', '0', '1', '1', '1', '0', '0', '0', '0', '0', '1', '2', '0',\n",
              "       '2', '0', '2', '2', '2', '2', '0', '2', '1', '0', '0', '1', '1',\n",
              "       '1', '2', '1', '1', '2', '0', '2', '0', '1', '2', '0', '1', '0',\n",
              "       '0', '0', '0', '2', '0', '2', '1', '0', '2', '1', '2', '0', '1',\n",
              "       '2'], dtype=object)"
            ]
          },
          "metadata": {},
          "execution_count": 22
        }
      ]
    },
    {
      "cell_type": "markdown",
      "source": [
        "### Hasil Predict Fix"
      ],
      "metadata": {
        "id": "iM1-M8BEtYiD"
      }
    },
    {
      "cell_type": "code",
      "source": [
        "jwbFix = soal['kelas'].values.astype(int)"
      ],
      "metadata": {
        "id": "fc7_PukPiDqR"
      },
      "execution_count": 23,
      "outputs": []
    },
    {
      "cell_type": "code",
      "source": [
        "jwbFix"
      ],
      "metadata": {
        "colab": {
          "base_uri": "https://localhost:8080/"
        },
        "id": "NR-R450OiZ7n",
        "outputId": "b3722812-c4c9-4fa6-af21-f18111887f3a"
      },
      "execution_count": 24,
      "outputs": [
        {
          "output_type": "execute_result",
          "data": {
            "text/plain": [
              "array([1, 0, 2, 1, 0, 2, 2, 0, 1, 0, 1, 2, 0, 2, 1, 1, 1, 1, 1, 2, 1, 1,\n",
              "       2, 2, 2, 2, 0, 2, 2, 2, 0, 1, 2, 1, 1, 2, 2, 1, 2, 0, 1, 0, 1, 2,\n",
              "       1, 1, 2, 2, 0, 0, 0, 2, 2, 2, 0, 0, 2, 2, 2, 0, 2, 1, 1, 1, 2, 2,\n",
              "       2, 0, 0, 2, 0, 1, 1, 1, 0, 2, 0, 0, 0, 1, 0, 2, 0, 2, 1, 1, 0, 0,\n",
              "       1, 2, 1, 1, 2, 2, 2, 0, 1, 1, 0, 1, 0, 2, 2, 1, 1, 2, 0, 2, 2, 2,\n",
              "       0, 1, 2, 0, 1, 1, 1, 0, 2, 2, 0, 1, 1, 0, 1, 1, 1, 2, 1, 2, 0, 0,\n",
              "       2, 1, 0, 0, 2, 0, 1, 0, 2, 2, 0, 0, 0, 2, 0, 0, 2, 1, 0, 1, 2, 2,\n",
              "       1, 2, 1, 2, 1, 2, 1, 0, 0, 2, 2, 1, 2, 2, 0, 1, 0, 0, 0, 1, 2, 2,\n",
              "       2, 1, 2, 1, 0, 2, 1, 1, 0, 0, 0, 1, 0, 0, 1, 1, 2, 1, 0, 2, 1, 0,\n",
              "       0, 1, 0, 0, 0, 1, 2, 2, 1, 0, 1, 0, 1, 2, 2, 0, 1, 0, 1, 2, 0, 1,\n",
              "       0, 1, 1, 2, 1, 1, 2, 0, 0, 2, 1, 0, 2, 1, 0, 1, 2, 1, 2, 0, 0, 1,\n",
              "       0, 2, 1, 1, 2, 0, 0, 1, 1, 1, 0, 0, 0, 0, 0, 1, 2, 0, 2, 0, 2, 2,\n",
              "       2, 2, 0, 2, 1, 0, 0, 1, 1, 1, 2, 1, 1, 2, 0, 2, 0, 1, 2, 0, 1, 0,\n",
              "       0, 0, 0, 2, 0, 2, 1, 0, 2, 1, 2, 0, 1, 2])"
            ]
          },
          "metadata": {},
          "execution_count": 24
        }
      ]
    },
    {
      "cell_type": "code",
      "source": [
        "np.savetxt('20110031.csv', jwbFix, delimiter=',', fmt='%d')"
      ],
      "metadata": {
        "id": "q2lcU3EbibG1"
      },
      "execution_count": 25,
      "outputs": []
    },
    {
      "cell_type": "code",
      "source": [],
      "metadata": {
        "id": "EefZ5VSy28pZ"
      },
      "execution_count": null,
      "outputs": []
    }
  ]
}